{
 "cells": [
  {
   "cell_type": "markdown",
   "metadata": {},
   "source": [
    "# Overview\n",
    "1. [Norms of Programming](#Norms-of-Programming)\n",
    "2. [Writing Print Statement in Python](#Writing-print-statement-in-python)\n",
    "3. [Writing Functions with Rules for Positional and Keyword Arguments](#Writing-functions-with-rules-for-positional-and-keyword-arguments)\n",
    "4. [Fundamental Python Concepts](#Fundamental-Python-concepts)\n",
    "5. [Data Converters](#Data-converters)\n",
    "6. [Identifiers](#Identifiers)\n",
    "7. [Access to Variables](#Access-to-variables)\n",
    "8. [Indexing](#INDEXING)\n",
    "9. [Some Popular Builtin Functions Useful for Programming](#Some-popular-builtin-functions-useful-for-programming)\n",
    "10. [Roll of 2 Dices](#Roll-of-two-dices)\n",
    "11. [Condition Statement for Temperature Recording](#Condition-statement-for-temperature-recording)\n",
    "12. [Conditional Statement for Credit Line of Buyer](#Conditional-statement-for-credit-line-of-buyer)\n",
    "13. [Conditional Statement for Eligibility of Loan based on Boolean Variables](#Conditional-statement-for-eligibility-of-loan-based-on-boolaean-variables)\n",
    "14. [Number of Characters](#Number-of-charcters)\n",
    "15. [Unit Converter](#Unit-Converter)\n",
    "16. [Patterns](#Patterns)\n",
    "17. [Lottery Game](#Lottery-game)\n",
    "18. [Start/Stop the Car through a Chain of Conditional Commands](#StartStop-the-car-through-a-chain-of-conditional-commands)\n",
    "19. [Creating Patterns as per the Conditions](#Creating-patters-as-per-the-conditions)\n",
    "20. [Sort the List in Descending Order](#Sort-the-list-in-descending-order)\n",
    "21. [Accessing Elements in Matrices](#Accessing-elements-in-matrices)\n",
    "22. [Remove Repeating Elements from a List of Numbers](#Remove-repeating-elements-from-a-list-of-numbers)\n",
    "23. [Number to Words Converter](#Number-to-words-converter)\n",
    "24. [Emoji Converter](#Emoji-Converter)\n",
    "25. [Fibonacci Series](#Fibinocci-series)\n",
    "26. [Handling Errors](#Handling-errors)\n",
    "27. [Classes](#Classes)\n",
    "28. [Defining a Class](#Defining-a-class)\n",
    "29. [Inheritance of Classes](#Inheritance-of-classes)\n",
    "\n"
   ]
  },
  {
   "cell_type": "markdown",
   "metadata": {},
   "source": [
    "# Norms of Programming"
   ]
  },
  {
   "cell_type": "markdown",
   "metadata": {},
   "source": [
    "\n",
    "- There are many areas where this rule applies in programming.  Two very important ones are:\n",
    "\n",
    "## 1)Keep its simple\n",
    "\n",
    "-  Subprogram behavior and length:  Subprograms should do precisely ONE conceptual task and no more. The length of a subprogram should allow it to be easily visually inspected; generally no more that one page in length.  Similarly you should generally not mix input/output and algorithmic logic in the same subprogram; it is alway a goal to separate I/O from logic.\n",
    "\n",
    "-  If a problem is can be decomposed into two or more independently solvable problems, then solve them independently and after you have implemented and tested the independent solutions, then combine them into the larger result.  This is sometimes known as \"Gall's Law\":\n",
    "\n",
    "- \"A complex system that works is invariably found to have evolved from a simple system that worked. The inverse proposition also appears to be true: A complex system designed from scratch never works and cannot be made to work. You have to start over, beginning with a working simple system.\"*\n",
    "\n",
    "### 2). \"Rule of Three\" (code duplication)\n",
    "\n",
    "- is a code refactoring rule of thumb to decide when a replicated piece of code should be replaced by a new procedure. \n",
    "    \"DONT REPEAT THE CODE. IT WOULD LOOK LIKE BRUTE FORCED PROGRAM\"  \n",
    "- It states that you are allowed to copy and paste the code once, but that when the same code is replicated three times, \n",
    "- It should be extracted into a new procedure. The rule was introduced by Martin Fowler in his text \"Refactoring\" and attributed to Don Roberts.\n",
    "\n",
    "- Duplication in programming is almost always in indication of poorly designed code or poor coding habits  because it makes code harder to maintain. \n",
    "- When the rule encoded in a replicated piece of code changes, whoever maintains the code will have to change it in all places correctly. \n",
    "- This process is error-prone and often leads to problems. If the code exists in only one place, then it can be easily changed there. \n",
    "- This rule is can even be applied to small number of lines of code, or even single lines of code.\n",
    "- For example, if you want to call a function, and then call it again when it fails, it's OK to have two call sites; however, if you want to try it five times before giving up, there should only be one call site inside a loop rather than 5 independent calls.\n",
    "\n",
    "## 3) Ninety-ninety rule ( failure to anticipate the hard parts)\n",
    "\n",
    "- The ninety-ninety rule is a humorous aphorism that states:The first 90 percent of the code accounts for the first 90 percent of the development time.The remaining 10 percent of the code accounts for the other 90 percent of the development time.\"—Tom Cargill, Bell Labs\n",
    "\n",
    "- That the total development time sums to 180% is a wry allusion to the notorious tendency of software development projects to significantly overrun their original schedules. It expresses both the rough allocation\n",
    "\n",
    "## 4)Efficiency vs. code clarity (chasing false efficiency):\n",
    "- Biggest mistakes that new programmers make is tweaking code to remove a couple of textual lines of high level code and replace it with a much more complex single line of code.\n",
    "- No perceivable impact on the runtime of most programs as most of them will likely be in the 90% of code that has little impact on the run-time of the program. \n",
    "- The real efficiency gains come from changing the order of complexity of the algorithm, such as changing from O(N^2) to O(NlogN) complexity.  \n",
    "- Occasionally, after the program is written and tested, it might prove to be slower than the problem specification calls for.  \n",
    "- On the these few occasions, and only after you have first optimized the complexity of the algorithm, then instrument or profile the code and find the 10% or less of the code that PROV\n",
    "\n",
    "## 5) Naming of things (subprograms and variables):  \n",
    "- to reduce the effort needed to read and understand source code which supports its maintainability\n",
    "- to enhance source code appearance (for example, by disallowing overly long names or unclear abbreviations)\n",
    "\n",
    "- Commonly, subprograms should have verb/verb phrase names as a subprogram should specify one specific task (see KISS rule) which should be an activity description.\n",
    "- Variables should have noun or adjective names as variables represent things or attributes of something.  \n",
    "\n",
    "## 6) Comments:\n",
    "- Write comments to describe how,why but never about what does the function does.But,we can put the what the program does only at the start of the program.  \n",
    "- readability of code: increase the readbility of code by introdicting sensible variables in the conditional expression than numbers in the middle of code. values can be initiated to variables as parameters \n",
    "\n",
    "Reference: https://wou.edu/las/cs/csclasses/cs161/Lectures/rulesofthumb.html\n"
   ]
  },
  {
   "cell_type": "markdown",
   "metadata": {},
   "source": [
    "# Writing print statement in python\n"
   ]
  },
  {
   "cell_type": "code",
   "execution_count": 31,
   "metadata": {
    "colab": {
     "base_uri": "https://localhost:8080/"
    },
    "executionInfo": {
     "elapsed": 8,
     "status": "ok",
     "timestamp": 1651244023201,
     "user": {
      "displayName": "Sai Yedduri",
      "userId": "09646985659065632655"
     },
     "user_tz": -120
    },
    "id": "Sz-TyfJcoLdu",
    "outputId": "4f50226d-d355-4155-a822-313a2621e4c5"
   },
   "outputs": [
    {
     "name": "stdout",
     "output_type": "stream",
     "text": [
      "Hello Sai Pavan Kumar\n",
      "----o\n",
      "**********\n",
      "start-to start the car\n",
      "                stop-to stop the car\n",
      "                quit-to quit the car\n",
      "10 Hello World!\n"
     ]
    }
   ],
   "source": [
    "\n",
    "# Print statement syntax:\n",
    "# print (*objects, sep=’ ‘, end=’\\n’, file=sys.stdout)\n",
    "#python interprters converts the code into binary for compilers. \n",
    "#Comments:\n",
    "# Write comments to describe how,why but never about what does the funvtion does.But,we can put the what the program does only at the \n",
    "#start of the program.\n",
    "\n",
    "# For writing the print statement both '' and \"\" can be used.\n",
    "print(\"Hello Sai Pavan Kumar\");\n",
    "print(\"----o\");\n",
    "\n",
    "# 10 times the  *(star) sign. Similarly it can be used for repeating the string.\n",
    "print(\"*\"*10);\n",
    "\n",
    "\n",
    "# \"\"\"    \"\"\" is used for printing multiple lines.\n",
    "print(\"\"\"start-to start the car\n",
    "                stop-to stop the car\n",
    "                quit-to quit the car\"\"\");\n",
    "\n",
    "a=10;\n",
    "print(a,end=\" \"); # By default the end charcter is \\n  in the print statemet\n",
    "\n",
    "print(\"Hello World!\");\n",
    "\n",
    "# Reference: # https://python-reference.readthedocs.io/en/latest/docs/functions/print.html"
   ]
  },
  {
   "cell_type": "markdown",
   "metadata": {},
   "source": [
    "# Writing functions with rules for positional and keyword arguments"
   ]
  },
  {
   "cell_type": "code",
   "execution_count": 22,
   "metadata": {},
   "outputs": [
    {
     "name": "stdout",
     "output_type": "stream",
     "text": [
      "Please enter your first name: Sai pavan\n",
      "Please enter yourlast name: kkkk\n",
      "Hello Sai pavankkkk Welcome aboard.\n",
      "Done\n"
     ]
    }
   ],
   "source": [
    "#All function in python returns None at the end.\n",
    "#Functions:\n",
    "#Each function should be responsible for only one task.\n",
    "def greet_user(first_name,last_name):\n",
    "    print(\"Hello \"+first_name+\" \"+last_name+\" Welcome aboard.\");\n",
    "\n",
    "# Input command requests for a message and \n",
    "fn=input(\"Please enter your first name: \");\n",
    "ln=input(\"Please enter yourlast name: \");\n",
    "#greet_user(first_name,last_name);#positional arguments:\n",
    "#(or)\n",
    "#greet_user(last_name=ln,first_name=fn);# Keyword arguments mentioned by assigning to with argument varaible name.\n",
    "                                    #In thiscase,function arguments need not to follow positional argument.\n",
    "#(or)\n",
    "greet_user(fn,last_name=ln)# If we are mixing positional and keyword arguments,we should first write keyword argument \n",
    "                            #and then positional argument\n",
    "print(\"Done\");"
   ]
  },
  {
   "cell_type": "markdown",
   "metadata": {},
   "source": [
    "# Fundamental Python concepts\n"
   ]
  },
  {
   "cell_type": "markdown",
   "metadata": {},
   "source": [
    "All data in a Python program is represented by objects or by relations between objects.   \n",
    "\n",
    "- Every object has an identity, a type and a value. . An object’s identity never changes once it has been created; you may think of it as the object’s address in memory. The ‘is’ operator compares the identity of two objects; the id() function returns an integer representing its identity.\n",
    "\n",
    "\n",
    "- An object’s type determines the operations that the object supports (e.g., “does it have a length?”) and also defines the possible values for objects of that type. The type() function returns an object’s type (which is an object itself). \n",
    "\n",
    "-Objects can be mutable or immutable. Objects whose value can change are mutable, while objects whose value is unchangeable once created are called immutable.\n",
    "\n",
    "\n",
    "list=[5,6]\n",
    "tuple=([list])\n",
    "list[0]=3\n",
    "print(tuple);\n",
    "output:[[3, 6]]\n",
    "\n",
    "\n",
    "\n",
    "# Datatypes:\n",
    "\n",
    "1. **None:**\n",
    "   - This type has a single value. There is a single object with this value.\n",
    "   - This object is accessed through the built-in name None.\n",
    "   - It is used to signify the absence of a value in many situations, e.g., it is returned from functions that don’t explicitly return anything.\n",
    "   - Its truth value is false.\n",
    "\n",
    "2. **Numbers:**\n",
    "   - There are two types of integers:\n",
    "     1. **Integers (int):**\n",
    "        - Booleans (bool): These represent the truth values False and True.\n",
    "        - The two objects representing the values False and True are the only Boolean objects. The Boolean type is a subtype of the integer type, and Boolean values behave like the values 0 and 1, respectively, in almost all contexts, the exception being that when converted to a string, the strings \"False\" or \"True\" are returned, respectively.\n",
    "     2. **Python supports double precision:**\n",
    "        - Double precision: log10(253), which is about 15~16 decimal digits.         \n",
    "           i)  **Floating Point Numbers**      \n",
    "           ii) **Complex Numbers:**\n",
    "               ```python\n",
    "               a = complex(3, 4)\n",
    "               print(a)\n",
    "               a = 3 + 4j\n",
    "               print(a)\n",
    "               a = complex(input(\"Please Enter a Complex number in the form of a+bj\"))\n",
    "               print(a)\n",
    "               print(a.real, a.imag)\n",
    "               ```\n",
    "\n",
    "4. **Strings:**\n",
    "   - A string is a sequence of values that represent Unicode code points.\n",
    "   - Python doesn’t have a char type; instead, every code point in the string is represented as a string object with length 1.\n",
    "   - Example:\n",
    "     ```python\n",
    "     string1 = \"Python works!\"\n",
    "     ```\n",
    "\n",
    "5. **Tuples:**\n",
    "   - The items of a tuple are arbitrary Python objects. Tuple values cannot be amended.\n",
    "   - Tuples of two or more items are formed by comma-separated lists of expressions.\n",
    "   - A tuple of one item (a ‘singleton’) can be formed by affixing a comma to an expression (an expression by itself does not create a tuple, since parentheses must be usable for grouping of expressions).\n",
    "   - An empty tuple can be formed by an empty pair of parentheses.\n",
    "   - Example:\n",
    "     ```python\n",
    "     tuple1 = (1, 2, 3)\n",
    "     ```\n",
    "\n",
    "6. **Bytes:**\n",
    "   - A bytes object is an immutable array. The items are 8-bit bytes, represented by integers in the range 0 <= x < 256.\n",
    "   - Bytes literals (like b'abc') and the built-in bytes() constructor can be used to create bytes objects.\n",
    "   - Also, bytes objects can be decoded to strings via the decode() method.\n",
    "\n",
    "7. **Mutable Sequences:**\n",
    "   - There are currently two intrinsic mutable sequence types:\n",
    "     1. **Lists:**\n",
    "        - The items of a list are arbitrary Python objects. It can consist of multiple datatypes.\n",
    "        - Lists are formed by placing a comma-separated list of expressions in square brackets.\n",
    "        - Note that there are no special cases needed to form lists of length 0 or 1.\n",
    "        - Example:\n",
    "          ```python\n",
    "          list1 = [1, 2.5, 3, \"python\"]\n",
    "          ```\n",
    "\n",
    "9. **Byte Arrays:**\n",
    "   - A bytearray object is a mutable array.\n",
    "   - They are created by the built-in bytearray() constructor.\n",
    "   - Aside from being mutable (and hence unhashable), byte arrays otherwise provide the same interface and functionality as immutable bytes objects.\n",
    "\n",
    "10. **Sets:**\n",
    "    - Sets are unordered sets of unique mutable objects. These represent a mutable set.\n",
    "    - They are created by the built-in set() constructor and can be modified afterward by several methods, such as add().\n",
    "    - Since set is unordered, we can't do indexing in sets.\n",
    "    - Example:\n",
    "      ```python\n",
    "      numbers = {1, 1, 2, 3, 4}\n",
    "      first = set(numbers)\n",
    "      second = {1, 6, 7}\n",
    "      first.add(1)\n",
    "      first.remove(4)\n",
    "      union_of_sets = first | second\n",
    "      intersection_of_sets = first & second\n",
    "      just_unique_first_numbers = first - second\n",
    "      unique_numbers = first ^ second\n",
    "      Is_first_subset_of_second = first < second\n",
    "      ```\n",
    "\n",
    "11. **Frozen Set:**\n",
    "    - A frozenset is an immutable set (like a tuple for a list).\n",
    "    - Example:\n",
    "      ```python\n",
    "      frozenset({1, 2, 3, 4})\n",
    "      ```\n",
    "\n",
    "\n",
    "    \n",
    "    \n",
    "# Immutable and mutable datatypes  \n",
    " - An object’s mutability is determined by its type; for instance, numbers, strings and tuples are immutable, \n",
    " while dictionaries and lists are mutable.\n",
    "\n",
    "- Implementation of garbage collectors: CPython currently uses a reference-counting scheme with (optional) delayed detection of cyclically linked garbage, which collects most objects as soon as they become unreachable, but is not guaranteed to collect garbage containing circular references\n",
    "\n",
    "- Some objects contain references to other objects; these are called containers. Examples of containers are tuples, lists and dictionaries.\n",
    "\n",
    "- In most cases, when we talk about the value of a container,\n",
    "  we imply the values, not the identities of the contained objects; however, when we talk about the mutability of a container, only the identities of the immediately contained objects are implied.So, if an immutable container (like a tuple) contains a reference to a mutable object, its value changes if that mutable object is changed.\n",
    "\n",
    "| Datatype         | Mutability     |\n",
    "|------------------|----------------|\n",
    "| NUMERIC TYPES    |                |\n",
    "|   - int          | Immutable      |\n",
    "|   - float        | Immutable      |\n",
    "|   - complex      | Immutable      |\n",
    "| TTEXT TYPES        |                |\n",
    "|   - str          | Immutable      |\n",
    "| SEQUENCE TYPES  |                |\n",
    "|   - list         | Mutable        |\n",
    "|   - tuple        | Immutable      |\n",
    "|   - range        | Immutable      |\n",
    "| MAPPING TYPES   |                |\n",
    "|   - dict         | Mutable        |\n",
    "| SET TYPES      |                |\n",
    "|   - set          | Mutable        |\n",
    "|   - frozenset    | Immutable      |\n",
    "| BOOLEAN TYPES    |                |\n",
    "|   - bool         | Immutable      |\n",
    "| BINAY TYPES     |                |\n",
    "|   - bytes        | Immutable      |\n",
    "|   - bytearray    | Mutable        |\n",
    "|   - memoryview   |                |\n",
    "| NONE TYPE       |                |\n",
    "|   - NoneType     | Immutable      |\n",
    "\n",
    "\n",
    "Reference:  https://docs.python.org/3/reference/datamodel.html\n"
   ]
  },
  {
   "cell_type": "code",
   "execution_count": null,
   "metadata": {
    "id": "QWHyCOU9WlFo"
   },
   "outputs": [],
   "source": [
    "\n",
    "#Immutable Datatype:\n",
    "# str,range,tuple\n",
    "\n",
    "#complex datatye syntax:\n",
    "a=complex(3,4);\n",
    "print(a);\n",
    "a=3+4j;\n",
    "print(a);\n",
    "a=complex(input(\"Please Enter a Complex number in the form of a+bj\"))\n",
    "print(a);\n"
   ]
  },
  {
   "cell_type": "markdown",
   "metadata": {},
   "source": [
    "# Data converters\n"
   ]
  },
  {
   "cell_type": "markdown",
   "metadata": {},
   "source": [
    "#dataconverters:\n",
    "#int\n",
    "#float\n",
    "#bool\n",
    "#str"
   ]
  },
  {
   "cell_type": "code",
   "execution_count": null,
   "metadata": {},
   "outputs": [],
   "source": [
    "#To know the variable_datatype= type(variable)\n",
    "\n",
    "price=10;\n",
    "p2=20;\n",
    "\n",
    "print(\"Entered price is\",price);\n",
    "#(or);\n",
    "print(\"Entered price is\"+ str(price));\n",
    "#(or)\n",
    "print(f\"Entered price is {price},{p2}\");\n"
   ]
  },
  {
   "cell_type": "markdown",
   "metadata": {},
   "source": [
    "# Identifiers"
   ]
  },
  {
   "cell_type": "raw",
   "metadata": {
    "id": "mwgYWLKjDAsB"
   },
   "source": [
    "# The following identifiers are used as reserved words, or keywords of the language, and cannot be used as ordinary identifiers. They must be spelled exactly as written here:\n",
    "\n",
    "and       del       from      not       while    \n",
    "as        elif      global    or        with     \n",
    "assert    else      if        pass      yield    \n",
    "break     except    import    print              \n",
    "class     exec      in        raise              \n",
    "continue  finally   is        return             \n",
    "def       for       lambda    try"
   ]
  },
  {
   "cell_type": "code",
   "execution_count": null,
   "metadata": {
    "id": "ZEei7LoXDkWR"
   },
   "outputs": [],
   "source": [
    "#Getting input:\n",
    "entered_age=input(\"Please Enter your age\");\n",
    "#output of this inputfunction is saved as string.\n",
    "# Concatenate(+) is possible for variables of same datatype\n",
    "#So, entered_age+10 is not possible.\n",
    "#For this, we have to use int(entererd_age)+10.\n",
    "\n",
    "\n",
    "name=input(\"Please Enter your name\");\n",
    "colour=input(\"What is your favourite colour\");\n",
    "print(name+\" likes \"+colour);"
   ]
  },
  {
   "cell_type": "markdown",
   "metadata": {},
   "source": [
    "# Good practice🤫: DONT REPEAT THE CODE.  Make sure to organize the  code in the form of functions or classes using Object oriented programming"
   ]
  },
  {
   "cell_type": "markdown",
   "metadata": {},
   "source": [
    "# Access to variables"
   ]
  },
  {
   "cell_type": "code",
   "execution_count": null,
   "metadata": {
    "id": "Fg5r3y9G3JRf"
   },
   "outputs": [],
   "source": [
    "#Without using global variable\n",
    "def call_number():\n",
    "  call_number.count=0;\n",
    "  for i in range(1,3):\n",
    "    num.append(float(input(f\"Please enter the {i}th number\")));\n",
    "    call_number.count=call_number.count+1;\n",
    "call_number();\n",
    "print(f\"The sum of {call_number.count} numbers is {num[0]+num[1]}\");\n",
    "\n",
    "\n",
    "#With using global variable:\n",
    "def call_number():\n",
    "  global count\n",
    "  count=0;\n",
    "  for i in range(1,3):\n",
    "    num.append(float(input(f\"Please enter the {i}th number\")));\n",
    "    count=count+1;\n",
    "call_number();\n",
    "print(f\"The sum of {count} numbers is {num[0]+num[1]}\");\n",
    "\n"
   ]
  },
  {
   "cell_type": "markdown",
   "metadata": {},
   "source": [
    "# INDEXING"
   ]
  },
  {
   "cell_type": "code",
   "execution_count": null,
   "metadata": {
    "colab": {
     "base_uri": "https://localhost:8080/"
    },
    "executionInfo": {
     "elapsed": 486,
     "status": "ok",
     "timestamp": 1653933406771,
     "user": {
      "displayName": "Sai Yedduri",
      "userId": "09646985659065632655"
     },
     "user_tz": -330
    },
    "id": "LXbJNBRcDylz",
    "outputId": "21d7a2ec-d45a-4d52-bf7c-36f1b6e789cc"
   },
   "outputs": [
    {
     "name": "stdout",
     "output_type": "stream",
     "text": [
      "P\n",
      "r\n",
      "Pyt\n",
      "Python for\n",
      "Python for beginners\n",
      "ython for beginner\n",
      "Python for beginners\n"
     ]
    }
   ],
   "source": [
    "#In strig_indexing,list_indexing,range_function last numbered index like 3rd index in [0:3] is not counted as considered index\n",
    "course=\"Python for beginners\";\n",
    "print(course[0]);\n",
    "print(course[-2]);\n",
    "print(course[0:3]);\n",
    "print(course[0:10:1]);\n",
    "print(course[:]) #--->Cloning variable\n",
    "print(course[1:-1]);#-->prints the characters from 1st index to last.\n",
    "print(course[0:]);"
   ]
  },
  {
   "cell_type": "markdown",
   "metadata": {
    "id": "XRcKD3QJoaA9"
   },
   "source": [
    " \n",
    " Indexing:\n",
    " \n",
    " +---+---+---+---+---+---+\n",
    " | P | y | t | h | o | n |\n",
    " +---+---+---+---+---+---+\n",
    " 0   1   2   3   4   5   6\n",
    "-6  -5  -4  -3  -2  -1:"
   ]
  },
  {
   "cell_type": "markdown",
   "metadata": {},
   "source": [
    "# Some popular builtin functions useful for programming"
   ]
  },
  {
   "cell_type": "code",
   "execution_count": null,
   "metadata": {
    "id": "mgJ1qM6eD2EF"
   },
   "outputs": [],
   "source": [
    "# range(10):integers from 0 to 9.(Last number 10 in range(10) is not included.)\n",
    "#range(5,10): integers from 5 to 9.\n",
    "#range(5,10,2);2 is the step.\n",
    "#for i in range(10,0,-1):\n",
    "#range synax: range(start index,end index,step)\n",
    "#\n",
    "course=\"Python for beginners\";\n",
    "len(course)\n",
    "print(course.upper());#converts to uppercase\n",
    "print(course.lower());#converts to lowercase\n",
    "print(course.find(\"n\"));#searches_for_ the index of first occurance of 'o' in the string, and -ve if the function doesn't exists. \n",
    "print(course.find(\"beginners\"));# output the index of starting of string.\n",
    "print(course.replace(\"beginners\",\"absolute_beginners\"));\n",
    "print(course.split(\" \"));#splits the string into list of characters.Ex:[\"a\",\"v\",\"c\"] for string:avc.\n",
    "print(course.strip());\n",
    "\n",
    "#list_functions:\n",
    "numbers=[5,2,1,7,4];\n",
    "#all list functions change the list after they are performed.\n",
    "print(numbers.insert(0,10));# 0 is the index and 10 is the number to insert.\n",
    "print(numbers.append(10));#adds 10 at the end of the list.\n",
    "print(numbers.remove(2));#removes the element 2 from the list.\n",
    "print(numbers.pop());# removes the last_element from the list.\n",
    "print(numbers.index(2));#to know the first_occured_index of a number.\n",
    "print(numbers.clear())#removes all items in the list.\n",
    "print(numbers.count(5));#no.of repeating times of an item.\n",
    "print(numbers.sort());# sorts the list in ascending order\n",
    "print(numbers.reverse());#prints the list in reverse.\n",
    "numbers2=print(numbers.copy())#To copy the list and assign to another variable.Changes in this wont impact the origional variable.\n",
    "print(\"python\" in course)# in outputs boolean\n",
    "\n",
    "\n",
    "message=\"Hello Sai Pavan. Have u reached Freiberg happy\";\n",
    "words=message.split(\" \");# split the string in to list whereever the \" \" is present.\n",
    "emojis={\"happy\":\":)\",\n",
    "        \"sad\":\":(\"};\n",
    "\n",
    "\n",
    "\n",
    "x=-2.9\n",
    "print(round(x));\n",
    "print(abs(x))\n"
   ]
  },
  {
   "cell_type": "code",
   "execution_count": null,
   "metadata": {
    "colab": {
     "base_uri": "https://localhost:8080/"
    },
    "executionInfo": {
     "elapsed": 355,
     "status": "ok",
     "timestamp": 1651818840733,
     "user": {
      "displayName": "Sai Yedduri",
      "userId": "09646985659065632655"
     },
     "user_tz": -120
    },
    "id": "lhLnydZwEhAC",
    "outputId": "f6da5ff6-3902-4f7f-e40c-273fbca4f2a7"
   },
   "outputs": [
    {
     "name": "stdout",
     "output_type": "stream",
     "text": [
      "0.010430098326718484\n",
      "11\n",
      "1\n",
      "3\n"
     ]
    }
   ],
   "source": [
    "# random module\n",
    "import random\n",
    "list=[2,3,2,5];\n",
    "#for i in range(3):# this for loop is taken to just run the statements 3 times.\n",
    "print(random.random());# indicates there will be random function in the random module.\n",
    "print(random.randint(10,20));# randomly considers a integer between 10 and 20.\n",
    "print(random.randrange(1,6,2));#random\n",
    "print(random.choice(list));# randomly picks an element from the list."
   ]
  },
  {
   "cell_type": "markdown",
   "metadata": {},
   "source": [
    "## Removing the spaces from a string "
   ]
  },
  {
   "cell_type": "code",
   "execution_count": 9,
   "metadata": {},
   "outputs": [
    {
     "data": {
      "text/plain": [
       "'Saipavan'"
      ]
     },
     "execution_count": 9,
     "metadata": {},
     "output_type": "execute_result"
    }
   ],
   "source": [
    "name=\"Sai pavan\"\n",
    "name.replace(\" \",\"\")"
   ]
  },
  {
   "cell_type": "code",
   "execution_count": 1,
   "metadata": {
    "colab": {
     "base_uri": "https://localhost:8080/",
     "height": 391
    },
    "executionInfo": {
     "elapsed": 683,
     "status": "error",
     "timestamp": 1653935493787,
     "user": {
      "displayName": "Sai Yedduri",
      "userId": "09646985659065632655"
     },
     "user_tz": -330
    },
    "id": "yOcYRexREAn-",
    "outputId": "3f900a22-5531-462b-c824-fc323e35e26a"
   },
   "outputs": [
    {
     "name": "stdout",
     "output_type": "stream",
     "text": [
      "3\n",
      "-5\n",
      "-3\n",
      "1.4142135623730951\n",
      "8.0\n",
      "0.0\n",
      "1.584962500721156\n",
      "0.6989700043360189\n",
      "3628800\n",
      "0\n",
      "3\n",
      "0.49999999999999994\n",
      "\n",
      "7.38905609893065\n",
      "15\n",
      "\n",
      "0.28896113303874693\n",
      "18\n",
      "1\n",
      "5\n"
     ]
    }
   ],
   "source": [
    "#Packages are imported to perform specific function\n",
    "# Tab key is used to see the options in the module.\n",
    "# math\n",
    "import math\n",
    "#math.ceil gives the highest number and floor give the lowest number.\n",
    "print(math.ceil(2.9));#ans:3\n",
    "print(math.ceil(-5.5));#ans:-5\n",
    "print(math.floor(-2.9));#ans:-3\n",
    "print(math.sqrt(2));\n",
    "print(math.pow(2,3));\n",
    "\n",
    "print(math.log(1))#Natural logirthm logx\n",
    "print(math.log2(3));#log3 with base 2\n",
    "print(math.log10(5));\n",
    "print(math.factorial(10))#n!\n",
    "print(math.perm(3,4));#npk\n",
    "print(math.comb(3,2));#nck\n",
    "# Trignometric math(sin,cos,tan,) functions only accepts sin functions.\n",
    "print(math.sin(math.radians(30)));#sin(30deg)\n",
    "#print(math.cos(rad));\n",
    "#print(math.tan(rad));\n",
    "#print(math.erf(x));#error function\n",
    "#print(math.pi);\n",
    "\n",
    "print()\n",
    "print(math.exp(2));\n",
    "a=[1,2,3,4,5]\n",
    "print(sum(a));\n",
    "print()\n",
    "\n",
    "# MODULE:random\n",
    "import random\n",
    "\n",
    "\n",
    "list=[2,3,2,5];\n",
    "#for i in range(3):# this for loop is taken to just run the statements 3 times.\n",
    "print(random.random());# indicates there will be random function in the random module.\n",
    "print(random.randint(10,20));# randomly considers a integer between 10 and 20.\n",
    "print(random.randrange(1,6,2));#random\n",
    "print(random.choice(list));# randomly picks an element from the list.\n",
    "\n"
   ]
  },
  {
   "cell_type": "markdown",
   "metadata": {},
   "source": [
    "# Roll of two dices"
   ]
  },
  {
   "cell_type": "code",
   "execution_count": 16,
   "metadata": {},
   "outputs": [],
   "source": [
    "import random"
   ]
  },
  {
   "cell_type": "code",
   "execution_count": 21,
   "metadata": {},
   "outputs": [
    {
     "name": "stdout",
     "output_type": "stream",
     "text": [
      "(1, 6)\n"
     ]
    }
   ],
   "source": [
    "class Dice:\n",
    "    def roll(self):\n",
    "        tuple=(random.randint(1,6),random.randint(1,6))\n",
    "        return(tuple)\n",
    "roll1=Dice();\n",
    "\n",
    "print(roll1.roll());"
   ]
  },
  {
   "cell_type": "code",
   "execution_count": null,
   "metadata": {
    "id": "cxVam2ggD8v7"
   },
   "outputs": [],
   "source": [
    "# Arithemetic Operations Priority:\n",
    "# Priority Order:\n",
    "# ()   Parentheses\n",
    "# **   Exponent\n",
    "# +x, -x, ~x   Unary plus, Unary minus, Bitwise NOT\n",
    "# *, /, //, %   Multiplication, Division, Floor division, Modulus\n",
    "# +, -   Addition, Subtraction\n",
    "# <<, >>   Bitwise shift operators\n",
    "# &   Bitwise AND\n",
    "# ^   Bitwise XOR\n",
    "# |   Bitwise OR\n",
    "# ==, !=, >, >=, <, <=, is, is not, in, not in   Comparisons, Identity, Membership operators\n",
    "# not   Logical NOT\n",
    "# and   Logical AND\n",
    "# or   Logical OR\n",
    "\n",
    "#For example, multiplication and floor division have the same precedence. \n",
    "#Hence, if both of them are present in an expression, the left one is evaluated first.\n",
    "# Left-right associativity\n",
    "# Output: 3\n",
    "print(5 * 2 // 3)\n",
    "\n",
    "# Shows left-right associativity\n",
    "# Output: 0\n",
    "print(5 * (2 // 3))\n"
   ]
  },
  {
   "cell_type": "markdown",
   "metadata": {},
   "source": [
    "# Condition statement for temperature recording"
   ]
  },
  {
   "cell_type": "code",
   "execution_count": 12,
   "metadata": {
    "id": "u2ci55hfEEjN"
   },
   "outputs": [
    {
     "name": "stdout",
     "output_type": "stream",
     "text": [
      "What the temperature outside?50\n",
      "It's a hot day.Drink plent of water :)\n",
      "Enjoy your day.\n"
     ]
    }
   ],
   "source": [
    "#Logical_Operators:\n",
    "# Boolean_operator:\n",
    "    #  and \n",
    "    #  or\n",
    "    #  not\n",
    "#Comparision_Operators with numericals:\n",
    "    #   greater than(>),\n",
    "    #   greater than and equal to(>=),\n",
    "    #   less than(<),\n",
    "    #   less than and equal to (<=),\n",
    "    #   equal to ==,\n",
    "    #   not equal to(!=)\n",
    "\n",
    "\n",
    "#Loops:\n",
    "temp=int(input(\"What the temperature outside?\"));\n",
    "if(temp>35):\n",
    "    print(\"It's a hot day.Drink plent of water :)\");\n",
    "elif(temp<=15):\n",
    "    print(\"It's a cold day.Wear warm clothes\");\n",
    "else:\n",
    "    print(\"It's a lovely day\");\n",
    "print(\"Enjoy your day.\");"
   ]
  },
  {
   "cell_type": "markdown",
   "metadata": {},
   "source": [
    "# Conditional statement for credit line of buyer"
   ]
  },
  {
   "cell_type": "code",
   "execution_count": 11,
   "metadata": {},
   "outputs": [
    {
     "name": "stdout",
     "output_type": "stream",
     "text": [
      "Please enter the amount: 500\n",
      "Offer a amount of 450.0\n"
     ]
    }
   ],
   "source": [
    "# Conditional statement for credit line of buyer:offer a credit with 10%  interest for person with good creditline otherwise charge 20% \n",
    "amt=int(input(\"Please enter the amount: \"));\n",
    "good_creditline=True;\n",
    "if(good_creditline):\n",
    "    amt=amt -(0.1*amt);\n",
    "    print(f\"Offer a amount of {amt}\");\n",
    "else:\n",
    "    amt=amt=amt-(0.2*amt);\n",
    "    print(\"Offer a amount of ${amt}\");"
   ]
  },
  {
   "cell_type": "markdown",
   "metadata": {},
   "source": [
    "# Conditional statement for eligibility of loan based on boolaean variables"
   ]
  },
  {
   "cell_type": "code",
   "execution_count": 2,
   "metadata": {},
   "outputs": [
    {
     "name": "stdout",
     "output_type": "stream",
     "text": [
      "Not Eligible for Loan\n"
     ]
    }
   ],
   "source": [
    "high_income =True\n",
    "good_credit=True\n",
    "has_criminal_record=True\n",
    "if(high_income and good_credit and (not has_criminal_record)):\n",
    "    print(\"Eligible for Loan\"); \n",
    "else:\n",
    "    print(\"Not Eligible for Loan\");\n",
    "    "
   ]
  },
  {
   "cell_type": "markdown",
   "metadata": {},
   "source": [
    "# Number of charcters"
   ]
  },
  {
   "cell_type": "code",
   "execution_count": 5,
   "metadata": {},
   "outputs": [
    {
     "name": "stdout",
     "output_type": "stream",
     "text": [
      "Please enter your nameSai pavan \n",
      "Good to go!\n"
     ]
    }
   ],
   "source": [
    "#Name-Characters:: Check if the length of the name is between 3 and 50 and warn otherwise with comments\n",
    "name=input(\"Please enter your name\")\n",
    "if(len(name)<3):\n",
    "    print(\"Name can't be less than 3 characters\");\n",
    "elif(len(name)>50):\n",
    "    print(\"Name can be of 50character at max.\");\n",
    "else:\n",
    "    print(\"Good to go!\");\n"
   ]
  },
  {
   "cell_type": "markdown",
   "metadata": {},
   "source": [
    "# Unit Converter"
   ]
  },
  {
   "cell_type": "code",
   "execution_count": 3,
   "metadata": {},
   "outputs": [
    {
     "name": "stdout",
     "output_type": "stream",
     "text": [
      "Please enter your WEIGHT50\n",
      "Is the unit in pounds(l) or in kgskgs\n",
      "You'r weight is 22.650000000000002kgs\n"
     ]
    }
   ],
   "source": [
    "# Unit Converter: Convert your weight from kgs to lbs or lbs to kgs\n",
    "weight=int(input(\"Please enter your WEIGHT\"));\n",
    "unit=input(\"Is the unit in pounds(l) or in kgs\");\n",
    "if(unit=='l'or 'L'):\n",
    "    weight=weight*0.453;\n",
    "    print(f\"You'r weight is {weight}kgs\");\n",
    "elif(unit=='kgs'or'KGS'):\n",
    "    weight=weight*2.204;\n",
    "    print(f\"You'r weight is {weight}lbs\");\n",
    "else:\n",
    "    print(\"Invalid input\");"
   ]
  },
  {
   "cell_type": "markdown",
   "metadata": {},
   "source": [
    "# Patterns"
   ]
  },
  {
   "cell_type": "code",
   "execution_count": null,
   "metadata": {
    "id": "cwlSR0RPEK1A"
   },
   "outputs": [],
   "source": [
    "#While loop: It is used for to execute a set of commands again and again untill the condition satisfies.\n",
    "\n",
    "print(\"Increasing triangle\");\n",
    "i=1;\n",
    "while i<5:\n",
    "    i=i+1;\n",
    "    print('*'*i);\n",
    "print(\"Done\")\n",
    "\n",
    "\n",
    "\n",
    "\n",
    "print(\"Decreasing triangle\");\n",
    "i=5;\n",
    "while i<=5:\n",
    "    print(\"*\"*i);\n",
    "    i=i-1;\n",
    "print(\"Done\");\n",
    "\n",
    "#Hill pattern:\n",
    "stars=1;\n",
    "maximum=5;#maximum stars that can be obtained:\n",
    "while stars<=maximum:\n",
    "    first_spaces=(maximum-stars)/2;\n",
    "    print((\" \"*first_spaces)+(\"*\"*stars));\n",
    "    stars=stars+2;\n",
    "    \n",
    "    \n"
   ]
  },
  {
   "cell_type": "markdown",
   "metadata": {},
   "source": [
    "# Lottery game"
   ]
  },
  {
   "cell_type": "code",
   "execution_count": null,
   "metadata": {
    "id": "INmJ4DI-EWGM"
   },
   "outputs": [],
   "source": [
    "# Lottery game: Choose a number from 0 to 9 and get a lotterychance=0;\n",
    "no_of_attempts=3;\n",
    "while (chance<no_of_attempts):\n",
    "    number=int(input(\"Please Enter a guessed number\"));\n",
    "    if(number ==9):\n",
    "        print(\"You have won the lottery\");\n",
    "        break;\n",
    "    else:\n",
    "        chance=chance+1;\n",
    "        print(\"Sorry,try next time.\");\n",
    "        if(chance==3):\n",
    "            print(\"Play next game.\");\n",
    "    \n",
    "print(\"Done\")"
   ]
  },
  {
   "cell_type": "markdown",
   "metadata": {},
   "source": [
    "# Start/Stop the car through a chain of conditional commands"
   ]
  },
  {
   "cell_type": "code",
   "execution_count": 9,
   "metadata": {
    "id": "9PwOV0yyEamx"
   },
   "outputs": [
    {
     "name": "stdout",
     "output_type": "stream",
     "text": [
      "Please enter the command\n",
      "\n",
      "           \"start\"-to start the car;\n",
      "            \"stop\"-to stop the car\n",
      "            \"quit\"-to quit the game\n",
      " >start\n",
      "Started the Car.Ready to go\n",
      "Please enter the command\n",
      "\n",
      "           \"start\"-to start the car;\n",
      "            \"stop\"-to stop the car\n",
      "            \"quit\"-to quit the game\n",
      " >stop\n",
      "stopped the Car\n",
      "Please enter the command\n",
      "\n",
      "           \"start\"-to start the car;\n",
      "            \"stop\"-to stop the car\n",
      "            \"quit\"-to quit the game\n",
      " >quit\n",
      "You are out of the game\n"
     ]
    }
   ],
   "source": [
    "started =False\n",
    "cmd=\"\";\n",
    "while (cmd!=\"quit\"):\n",
    "    print(\"\"\"Please enter the command\\n\n",
    "           \"start\"-to start the car;\n",
    "            \"stop\"-to stop the car\n",
    "            \"quit\"-to quit the game\"\"\")\n",
    "    \n",
    "    cmd=input(\"\"\" >\"\"\").lower();\n",
    "    if(cmd==\"start\"):\n",
    "        print(\"Started the Car.Ready to go\");\n",
    "        started =True;\n",
    "    elif(cmd==\"stop\"):\n",
    "        if(not started):\n",
    "            print(\"Car is already stopped\")\n",
    "        else:\n",
    "            started =False;\n",
    "            print(\"stopped the Car\");   \n",
    "    elif(cmd==\"quit\"):\n",
    "        print(\"You are out of the game\")\n",
    "        break;\n",
    "    elif(cmd==\"help\"):\n",
    "        print(\"\"\"start-to start the car;\n",
    "                stop-to stop the car\n",
    "                quit-to quit the car\"\"\");\n",
    "    else:\n",
    "        print(\"\"\"I dont Understand your input....Please enter 'help' for instructions.\"\"\");"
   ]
  },
  {
   "cell_type": "markdown",
   "metadata": {},
   "source": [
    "# Creating patters as per the conditions"
   ]
  },
  {
   "cell_type": "code",
   "execution_count": 11,
   "metadata": {
    "id": "L3d1comJEhgS"
   },
   "outputs": [
    {
     "name": "stdout",
     "output_type": "stream",
     "text": [
      "xxxxx\n",
      "xx\n",
      "xxxxx\n",
      "xx\n",
      "xx\n",
      "======================================================\n",
      "lllll\n",
      "5\n",
      "ll\n",
      "2\n",
      "lllll\n",
      "5\n",
      "ll\n",
      "2\n",
      "ll\n",
      "2\n"
     ]
    }
   ],
   "source": [
    "list=[5,2,5,2,2];\n",
    "for item in list:\n",
    "    print(item*\"x\");\n",
    "    #(or)\n",
    "print(\"\"\"======================================================\"\"\")\n",
    "for item in list:\n",
    "    output=\"\"\n",
    "    for count in range(item):\n",
    "        output=output+\"l\";\n",
    "    print(output);\n",
    "    print(count+1);"
   ]
  },
  {
   "cell_type": "markdown",
   "metadata": {},
   "source": [
    "# Sort the list in descending order"
   ]
  },
  {
   "cell_type": "code",
   "execution_count": 12,
   "metadata": {
    "id": "7ta3hDFoEkZ_"
   },
   "outputs": [
    {
     "name": "stdout",
     "output_type": "stream",
     "text": [
      "List in descending order is  [6, 3, 2, 10, 8, 4]\n",
      "List in descending order is  [6, 3, 2, 10, 8, 4]\n",
      "List in descending order is  [10, 3, 2, 6, 8, 4]\n",
      "List in descending order is  [10, 3, 2, 6, 8, 4]\n",
      "List in descending order is  [10, 3, 2, 6, 8, 4]\n",
      "List in descending order is  [10, 3, 2, 6, 8, 4]\n",
      "List in descending order is  [10, 6, 2, 3, 8, 4]\n",
      "List in descending order is  [10, 8, 2, 3, 6, 4]\n",
      "List in descending order is  [10, 8, 2, 3, 6, 4]\n",
      "List in descending order is  [10, 8, 3, 2, 6, 4]\n",
      "List in descending order is  [10, 8, 6, 2, 3, 4]\n",
      "List in descending order is  [10, 8, 6, 2, 3, 4]\n",
      "List in descending order is  [10, 8, 6, 3, 2, 4]\n",
      "List in descending order is  [10, 8, 6, 4, 2, 3]\n",
      "List in descending order is  [10, 8, 6, 4, 3, 2]\n"
     ]
    }
   ],
   "source": [
    "# List in descending order():\n",
    "list=[3,6,2,10,8,4];\n",
    "for i in range(len(list)):\n",
    "    for j in range(i+1,len(list)):\n",
    "        if(list[i]>list[j]):\n",
    "            print(\"List in descending order is \",list);\n",
    "        else:\n",
    "            d=list[j];\n",
    "            list[j]=list[i];\n",
    "            list[i]=d;\n",
    "            print(\"List in descending order is \",list);"
   ]
  },
  {
   "cell_type": "markdown",
   "metadata": {},
   "source": [
    "# Accessing elements in matrices"
   ]
  },
  {
   "cell_type": "code",
   "execution_count": 13,
   "metadata": {
    "id": "_VRIY_3SEnPM"
   },
   "outputs": [
    {
     "name": "stdout",
     "output_type": "stream",
     "text": [
      "1\n",
      "2\n",
      "3\n",
      "5\n",
      "6\n",
      "6\n",
      "8\n",
      "1\n",
      "2\n",
      "3\n",
      "4\n",
      "5\n",
      "6\n",
      "7\n",
      "8\n",
      "9\n"
     ]
    }
   ],
   "source": [
    "# Matrices:\n",
    "matrix=[[1,2,3],[4,5,6],[7,8,9]];\n",
    "print(matrix[0][0]);\n",
    "print(matrix[0][1]);\n",
    "print(matrix[0][2]);\n",
    "print(matrix[1][1]);\n",
    "print(matrix[1][2]);\n",
    "print(matrix[1][2]);\n",
    "print(matrix[2][1]);\n",
    "\n",
    "for row in matrix:\n",
    "    for item in row:\n",
    "        print(item);"
   ]
  },
  {
   "cell_type": "markdown",
   "metadata": {},
   "source": [
    "# Remove repeating elements from a list of numbers"
   ]
  },
  {
   "cell_type": "code",
   "execution_count": 17,
   "metadata": {
    "id": "qYyGjvZIEuzR"
   },
   "outputs": [
    {
     "name": "stdout",
     "output_type": "stream",
     "text": [
      "[6, 5, 4, 2, 1]\n"
     ]
    }
   ],
   "source": [
    "#Program to remove duplicates in the list.\n",
    "list=[1,2,2,4,5,6,6];\n",
    "for item in list:\n",
    "    if((list.count(item))>=2):\n",
    "        list.remove(item);\n",
    "       \n",
    "list.sort();\n",
    "list.reverse();\n",
    "print(list);"
   ]
  },
  {
   "cell_type": "markdown",
   "metadata": {},
   "source": [
    "# Number to words converter"
   ]
  },
  {
   "cell_type": "code",
   "execution_count": 18,
   "metadata": {},
   "outputs": [
    {
     "name": "stdout",
     "output_type": "stream",
     "text": [
      "Phone:124\n",
      " One Two Four\n"
     ]
    }
   ],
   "source": [
    "phone={\"1\":\"One\",\n",
    "      \"2\":\"Two\",\n",
    "      \"3\":\"Three\",\n",
    "      \"4\":\"Four\",\n",
    "      \"5\":\"Five\",\n",
    "      \"6\":\"Six\"};\n",
    "number=input(\"Phone:\");\n",
    "out=\"\";\n",
    "for num in number:\n",
    "    out=out+\" \"+phone[num];\n",
    "print(out)"
   ]
  },
  {
   "cell_type": "markdown",
   "metadata": {},
   "source": [
    "# Emoji Converter"
   ]
  },
  {
   "cell_type": "code",
   "execution_count": 21,
   "metadata": {
    "colab": {
     "base_uri": "https://localhost:8080/"
    },
    "executionInfo": {
     "elapsed": 13552,
     "status": "ok",
     "timestamp": 1651262747050,
     "user": {
      "displayName": "Sai Yedduri",
      "userId": "09646985659065632655"
     },
     "user_tz": -120
    },
    "id": "txznCwoUExQU",
    "outputId": "8b69780f-33dd-4b74-fb1f-ae36827b4297"
   },
   "outputs": [
    {
     "name": "stdout",
     "output_type": "stream",
     "text": [
      ">Message with :) or :(Happy :)\n",
      "Happy😊\n"
     ]
    }
   ],
   "source": [
    "def emojiconverter(message):\n",
    "    words=message.split(\" \");\n",
    "    emojis={\":)\":\"😊\",\n",
    "            \":(\":\"😒\"};\n",
    "\n",
    "    out=\"\";\n",
    "    for word in words:\n",
    "        out=out+emojis.get(word,word);\n",
    "    return(out);\n",
    "\n",
    "message=input(\">Message with :) or :(\");\n",
    "converted_string=emojiconverter(message);\n",
    "print(converted_string);"
   ]
  },
  {
   "cell_type": "markdown",
   "metadata": {},
   "source": [
    "# Fibinocci series"
   ]
  },
  {
   "cell_type": "code",
   "execution_count": 1,
   "metadata": {
    "id": "9NO9BvAvE3zs"
   },
   "outputs": [
    {
     "name": "stdout",
     "output_type": "stream",
     "text": [
      "0 1 1 2 3 5 "
     ]
    }
   ],
   "source": [
    "#Fibinocci series:Series formed by adding the sum of last 2 nummbers  untill they reach the aticipated number\n",
    "def fib(n):\n",
    "    a,b=0,1;\n",
    "    while(a<=n):\n",
    "        print(a,end=\" \");\n",
    "        c=a+b;\n",
    "        a=b;\n",
    "        b=c;\n",
    "fib(5);"
   ]
  },
  {
   "cell_type": "markdown",
   "metadata": {},
   "source": [
    "# Handling errors"
   ]
  },
  {
   "cell_type": "code",
   "execution_count": 24,
   "metadata": {
    "id": "_5MlASQMFEef"
   },
   "outputs": [
    {
     "name": "stdout",
     "output_type": "stream",
     "text": [
      "Print your age: 25\n",
      "400.0\n"
     ]
    }
   ],
   "source": [
    "#Handling errors:\n",
    "# https://docs.python.org/3/library/exceptions.html#RuntimeError\n",
    "#Using try...except\n",
    "#exit code 0 means no error.\n",
    "#Value error: if the expected output is an integer and input value is not a integer.Then we get this error.\n",
    "\n",
    "try:\n",
    "    age=int(input(\"Print your age: \"));\n",
    "    income=10000;\n",
    "    risk=income/age;\n",
    "    print(risk);\n",
    "except ValueError:\n",
    "    print(\"Invalid value.Not recieved expected datatype results in Value Error.\");\n",
    "except ZeroDivisionError:\n",
    "    print(\"Age cant be 0.\");\n",
    "except NameError:\n",
    "    print(\"Local/Global are not found/Unqualified Variable names.\");\n",
    "except RuntimeError:\n",
    "    print(\"\");\n",
    "except IndendationError:\n",
    "    print(\"Does not have indexdation\");"
   ]
  },
  {
   "cell_type": "markdown",
   "metadata": {},
   "source": [
    "# Classes"
   ]
  },
  {
   "cell_type": "code",
   "execution_count": null,
   "metadata": {
    "id": "22EvfuknFHlX"
   },
   "outputs": [],
   "source": [
    "#Classes: Used to model real concepts in a organised manner.It is like a empty survey sheet(class).As you go through headings(methods),\n",
    "#which can exhibit our desired properties through objects.\n",
    "#Objects are instances of class.They are basically duplicates of the class.\n",
    "#Object can access the method if the keyword \"self\" is assigned to method.\n",
    "#Properties/attributes are variables that describe the object.\n",
    "# Good_Custom::While naming classes we have to name class variable staring with Capital letter.\n",
    "#and Multiple names in the same word but initiating with Capital letters. Ex:HasCapitalLetter,\n",
    "try:\n",
    "    class Point:\n",
    "        def move():\n",
    "            print(\"move\");\n",
    "        def draw(self):#self is a reserved keyword used by the objects access the properties.\n",
    "            print(\"draw\");\n",
    "    point1=Point(); #point1 and point2 are objects.\n",
    "    point1.x=10\n",
    "    point1.y=20\n",
    "    point1.draw();\n",
    "    #point1.move(); # error is caused by lack of self in the move() method.\n",
    "    \n",
    "    point2.draw();\n",
    "\n",
    "except TypeError:\n",
    "    print(\"Did you miss self for method in the class? \");\n",
    "except AttributeError:\n",
    "    print(\"Did you call for not assigned property of the class?\");"
   ]
  },
  {
   "cell_type": "code",
   "execution_count": null,
   "metadata": {},
   "outputs": [],
   "source": []
  },
  {
   "cell_type": "code",
   "execution_count": null,
   "metadata": {
    "colab": {
     "base_uri": "https://localhost:8080/"
    },
    "executionInfo": {
     "elapsed": 251,
     "status": "ok",
     "timestamp": 1651263085050,
     "user": {
      "displayName": "Sai Yedduri",
      "userId": "09646985659065632655"
     },
     "user_tz": -120
    },
    "id": "WO_LCcngFNFb",
    "outputId": "d0d5e1e9-b741-4a6e-d6cf-0ae2093f39c9"
   },
   "outputs": [
    {
     "name": "stdout",
     "output_type": "stream",
     "text": [
      "10\n"
     ]
    }
   ],
   "source": [
    "    class Point:\n",
    "        #Constructor:\n",
    "        def __init__(self,x,y): \n",
    "            self.x=x;\n",
    "            self.y=y;      \n",
    "        def move():\n",
    "            print(\"move\");\n",
    "        def draw(self):#self is a reserved keyword used by the objects access the properties.\n",
    "            print(\"draw\");\n",
    "    #point1=Point(); #point1 and point2 are objects.\n",
    "    #point1.x=10\n",
    "    #point1.y=20\n",
    "    #point1.draw();\n",
    "    #point1.move(); # error is caused by lack of self in the move() method.\n",
    "    \n",
    "    #point2.draw();\n",
    "    \n",
    "    point3=Point(10,20);\n",
    "    print(point3.x);"
   ]
  },
  {
   "cell_type": "markdown",
   "metadata": {},
   "source": [
    "# Class for performing operations b/w numbers"
   ]
  },
  {
   "cell_type": "code",
   "execution_count": 26,
   "metadata": {
    "id": "VhhsUdv4FSey"
   },
   "outputs": [
    {
     "name": "stdout",
     "output_type": "stream",
     "text": [
      "30\n",
      "-10\n",
      "200\n",
      "0.5\n"
     ]
    }
   ],
   "source": [
    "class Operation:\n",
    "    def __init__(self,num1,num2):#num1,num2 are arguments.\n",
    "        self.add=num1+num2;#add,sub,mult,div are properties of class \"Operation()\".\n",
    "        self.sub=num1-num2;\n",
    "        self.mult=num1*num2;\n",
    "        self.div=num1/num2;\n",
    "\n",
    "four_operations=Operation(10,20);\n",
    "print(four_operations.add);\n",
    "print(four_operations.sub);\n",
    "print(four_operations.mult);\n",
    "print(four_operations.div);"
   ]
  },
  {
   "cell_type": "code",
   "execution_count": null,
   "metadata": {
    "colab": {
     "base_uri": "https://localhost:8080/"
    },
    "executionInfo": {
     "elapsed": 237,
     "status": "ok",
     "timestamp": 1651263180786,
     "user": {
      "displayName": "Sai Yedduri",
      "userId": "09646985659065632655"
     },
     "user_tz": -120
    },
    "id": "AOGLG4PTFYLU",
    "outputId": "85e4214d-ef0f-4f79-a1bc-e523672063f5"
   },
   "outputs": [
    {
     "name": "stdout",
     "output_type": "stream",
     "text": [
      "Sai Pavan Kumar\n",
      "06nov1997\n"
     ]
    }
   ],
   "source": [
    "class Person:\n",
    "    def __init__(self,name,dob):\n",
    "        self.name=name;\n",
    "        self.DOB=dob;\n",
    "customer=Person(dob=\"06nov1997\",name=\"Sai Pavan Kumar\");\n",
    "print(customer.name);\n",
    "print(customer.DOB);"
   ]
  },
  {
   "cell_type": "markdown",
   "metadata": {},
   "source": [
    "# Defining a class\n"
   ]
  },
  {
   "cell_type": "code",
   "execution_count": 27,
   "metadata": {
    "id": "ZAtGexGlFaLn"
   },
   "outputs": [
    {
     "name": "stdout",
     "output_type": "stream",
     "text": [
      "Dog 20 PUPPY 30kgs\n"
     ]
    }
   ],
   "source": [
    "class Animal:\n",
    "    \n",
    "    \"Animal class based on type,name, age and amount of feed\"\n",
    "    \n",
    "    def __init__(self,pet,name,age,feed_amt):\n",
    "        self.pet=pet;\n",
    "        self.name=name.lower();\n",
    "        self.age=age;\n",
    "        self.feed=feed_amt;\n",
    "        \n",
    "an1=Animal(\"Dog\",\"20\",\"PUPPY\",\"30kgs\");\n",
    "print(an1.pet,an1.name,an1.age,an1.feed);"
   ]
  },
  {
   "cell_type": "markdown",
   "metadata": {},
   "source": [
    "# Inheritance of classes"
   ]
  },
  {
   "cell_type": "code",
   "execution_count": null,
   "metadata": {
    "id": "PZQJExiSFfmZ"
   },
   "outputs": [],
   "source": [
    "#Inheritance:it is done bw classes to use the methods of the class from which it is inheriting.\n",
    "class Animal:\n",
    "    def __init__(self,pet,name,age,feed_amt):\n",
    "        self.pet=pet;\n",
    "        self.name=name.lower();\n",
    "        self.age=age;\n",
    "        self.feed=feed_amt;\n",
    "an1=Animal(\"Dog\",\"PUPPY\",\"20\",\"30kgs\");\n",
    "#print(an1.pet,an1.name,an1.age,an1.feed);\n",
    "    \n",
    "class Human(Animal):\n",
    "    pass;\n",
    "sai=Human(\"Dog\",age=\"20\",name=\"PUPPY\",\"30kgs\");\n",
    "#print(sai.pet,sai.name,sai.age,sai.feed);\n",
    "\n",
    "class Superman(Animal):\n",
    "    def __init__(self,pet,name,age,feed_amt,has_life):\n",
    "        Animal.__init__(self,pet,name,age,feed_amt);\n",
    "        self.boolean=has_life;\n",
    "    def strength(self):\n",
    "        print(\"You are the strongest man alive\");\n",
    "super1=Superman(\"Man\",\"Sai\",\"20\",\"5kgs\",True);#While calling our own clas,we should mention the all 4 properties of inherited class.\n",
    "                                        #calling Superman() wont work.\n",
    "print(super1.name);\n",
    "super1.strength();\n",
    "print(super1.boolean);\n",
    "\n",
    "#print(help(Superman));#prints the approach followed by iherited class.First,it goes to its own class,then,iherited class(Animal),and \n",
    "#then builtins.object of Python."
   ]
  }
 ],
 "metadata": {
  "colab": {
   "authorship_tag": "ABX9TyMCyoFYLhbnYXsf2tRWrRhT",
   "collapsed_sections": [],
   "provenance": []
  },
  "kernelspec": {
   "display_name": "Python 3 (ipykernel)",
   "language": "python",
   "name": "python3"
  },
  "language_info": {
   "codemirror_mode": {
    "name": "ipython",
    "version": 3
   },
   "file_extension": ".py",
   "mimetype": "text/x-python",
   "name": "python",
   "nbconvert_exporter": "python",
   "pygments_lexer": "ipython3",
   "version": "3.10.9"
  }
 },
 "nbformat": 4,
 "nbformat_minor": 1
}
