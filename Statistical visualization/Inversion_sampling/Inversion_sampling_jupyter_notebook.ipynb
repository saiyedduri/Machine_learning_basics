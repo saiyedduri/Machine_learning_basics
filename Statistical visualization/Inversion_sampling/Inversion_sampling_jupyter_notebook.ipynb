{
 "cells": [
  {
   "cell_type": "code",
   "execution_count": 1,
   "id": "371f011a",
   "metadata": {},
   "outputs": [],
   "source": [
    "import numpy as np\n",
    "import matplotlib.pyplot as plt\n",
    "import pandas as pd\n",
    "import seaborn as sns"
   ]
  },
  {
   "cell_type": "markdown",
   "id": "518f190d",
   "metadata": {},
   "source": [
    "# a) Implement inversion sampling of the  Weibull distribution "
   ]
  },
  {
   "cell_type": "code",
   "execution_count": 2,
   "id": "e65ef911",
   "metadata": {},
   "outputs": [],
   "source": [
    "def weibull_cdf(x,scale,shape):\n",
    "    \"\"\"\n",
    "    Compute the cummulative distribution function of the weibull distribution\n",
    "    \n",
    "    Arguments:\n",
    "        x (np.array or float): parameter/range of values at which evaluate the cummulative distribution function\n",
    "        scale(float):Scale parameter for weibull distribution\n",
    "        shape(float):Shape parameter for weibull distribution\n",
    "    \n",
    "    Returns(np.array or float): The cummulative distribution function values at the specified  distribution at the specified range/value.\n",
    "    \n",
    "    Reference: \n",
    "        Rdocumentation: Cumulative Distribution Function of the Weibull Distribution\n",
    "        More information: https://search.r-project.org/CRAN/refmans/lmomco/html/cdfwei.html\n",
    "    \n",
    "    Note: The location/zeta parameter is neglected to represent the generalized weibull distribution\n",
    "    \"\"\"\n",
    "    if x>=0:\n",
    "        return 1-np.exp(-(x/shape)**scale) \n",
    "    else:\n",
    "        return 0\n",
    "def weibull_cdf_inverse(distribution,scale,shape):\n",
    "    \"\"\"\n",
    "    Function: Compute the quantile function of weibull cummulative distribution funcion\n",
    "    \n",
    "    Arguments:\n",
    "        distribution(np.array): A distribution with input values ranging between 0 and 1\n",
    "        scale(float): Scale parameter of the weibull distribution.\n",
    "        shape(float): Shape parameter of the weibull distribution\n",
    "    Returns:\n",
    "        weibull_dist(np.array):Samples that form weibull distribution\n",
    "    \n",
    "    Reference: \n",
    "        Rdocumentation: Quantile Function of the Weibull Distribution\n",
    "        More information: https://search.r-project.org/CRAN/refmans/lmomco/html/quawei.html\n",
    "    \n",
    "    Note: The location/zeta parameter is neglected to represent the generalized weibull distribution\n",
    "    \"\"\"\n",
    "    weibull_dist=scale*(-np.log(1-distribution))**(1/shape)\n",
    "    return weibull_dist\n",
    "\n",
    "def weibull_inverse_sampling(n_samples,scale,shape,randomstate=0):\n",
    "    \"\"\"\n",
    "    Function: Generate the samples of weibull distribution from uniform distribution.\n",
    "    \n",
    "    Arguments:\n",
    "        n_samples(int): Number of samples to generate.\n",
    "        scale(float):Scale parameter for weibull distribution\n",
    "        shape(float):Shape parameter for weibull distribution\n",
    "        random_state(int):Seed for radom generation of uniform distribution \n",
    "    Returns:\n",
    "        weibull_dist(np.array): Generated samples of weibull distribution\n",
    "\n",
    "    \"\"\"\n",
    "    # Fix the seed / randomstate for random number generator\n",
    "    np.random.seed(randomstate)\n",
    "    \n",
    "    # Generate \"n_samples\" uniformly distributed samples with the range of 0 and 1\n",
    "    uniform_dist=np.random.uniform(0,1,n_samples)\n",
    "    \n",
    "    # Convert the uniform distribution to weibull distribution through weibull quantile function\n",
    "    weibull_dist=weibull_cdf_inverse(uniform_dist,scale,shape)\n",
    "    \n",
    "    return weibull_dist"
   ]
  },
  {
   "cell_type": "markdown",
   "id": "a009b38a",
   "metadata": {},
   "source": [
    "# b)Sample 25 points of the Wei(5, 2) distribution and estimate its mean"
   ]
  },
  {
   "cell_type": "code",
   "execution_count": 3,
   "id": "a6384eb0",
   "metadata": {},
   "outputs": [
    {
     "name": "stdout",
     "output_type": "stream",
     "text": [
      "b) The estimated mean of Weibull distribution with shape=5,scale=2,random_state=0 is 5.069179385454998\n"
     ]
    }
   ],
   "source": [
    "weibull_dist=weibull_inverse_sampling(n_samples=25,scale=5,shape=2,randomstate=0)\n",
    "estimated_mean=weibull_dist.mean()\n",
    "print(f\"b) The estimated mean of Weibull distribution with shape=5,scale=2,random_state=0 is {estimated_mean}\")"
   ]
  },
  {
   "cell_type": "markdown",
   "id": "0ffa31fc",
   "metadata": {},
   "source": [
    "# c) Repeat this process for 1,000 times and store each time the estimates for the mean. "
   ]
  },
  {
   "cell_type": "code",
   "execution_count": 4,
   "id": "b5ae36ea",
   "metadata": {},
   "outputs": [
    {
     "name": "stdout",
     "output_type": "stream",
     "text": [
      "c) The estimated means for the first 1000 random states with samples=25,lamda=5 and scale parrameter(k)=2 are \n",
      "            0\n",
      "0    5.069179\n",
      "1    3.922311\n",
      "2    3.546502\n",
      "3    3.780269\n",
      "4    5.103491\n",
      "..        ...\n",
      "995  4.024161\n",
      "996  4.030282\n",
      "997  5.239463\n",
      "998  4.902603\n",
      "999  3.975423\n",
      "\n",
      "[1000 rows x 1 columns]\n",
      "====================================================================================================\n"
     ]
    }
   ],
   "source": [
    "# Repeating the process(i.e with 25 samples and lamda 5 and scale parameter(k) as 2) for 1000 random states and \n",
    "# storing the means for each randomstate of the weibull distribution in list\n",
    "n_times=1000\n",
    "\n",
    "# Compute the estimated means for the first 1000 random states with samples=25,lamda=5 and scale parrameter(k)=2\n",
    "estimated_means=[weibull_inverse_sampling(n_samples=25,scale=5,shape=2,randomstate=each_time).mean() for each_time in range(n_times)]\n",
    "\n",
    "print(f\"c) The estimated means for the first 1000 random states with samples=25,lamda=5 and scale parrameter(k)=2 are \\n{pd.DataFrame(estimated_means)}\")\n",
    "print(100*\"=\")"
   ]
  },
  {
   "cell_type": "markdown",
   "id": "da174b23",
   "metadata": {},
   "source": [
    "## plot the histogram of the estimates"
   ]
  },
  {
   "cell_type": "code",
   "execution_count": 5,
   "id": "90098016",
   "metadata": {},
   "outputs": [
    {
     "data": {
      "image/png": "[encoded data removed]",
      "text/plain": [
       "<Figure size 640x480 with 1 Axes>"
      ]
     },
     "metadata": {},
     "output_type": "display_data"
    }
   ],
   "source": [
    "fig,axis=plt.subplots()\n",
    "# Plotting the histogram to determine distribution of the mean estimates\n",
    "plt.hist(estimated_means,bins=30,color=\"brown\", edgecolor=\"red\")\n",
    "\n",
    "# Annotating the title,xaxis and yaxis for the histogram\n",
    "axis.set_title(\"Histogram of mean estimates of weibull distribution samples\")\n",
    "axis.set_xlabel(\"Estimated means \")\n",
    "axis.set_ylabel(\"Frequency\")\n",
    "\n",
    "plt.show()"
   ]
  },
  {
   "cell_type": "markdown",
   "id": "38d98d8d",
   "metadata": {},
   "source": [
    "## Which distribution do they follow asymptotically?"
   ]
  },
  {
   "cell_type": "markdown",
   "id": "b9537482",
   "metadata": {},
   "source": [
    "According to the central limit theorem, for sufficiently large number of  samples(n) the distribution of the average of independent and identically sdistrinuted samples follows a normal distribution irrespective of the initial distribution. So here, the estimated means of the weibull distributed samples should follow a Gaussuian/normal distribution as the number of samples increases asymptotically to infinity."
   ]
  },
  {
   "cell_type": "code",
   "execution_count": null,
   "id": "cbe17f29",
   "metadata": {},
   "outputs": [],
   "source": []
  },
  {
   "cell_type": "code",
   "execution_count": null,
   "id": "df1c0c86",
   "metadata": {},
   "outputs": [],
   "source": []
  },
  {
   "cell_type": "code",
   "execution_count": null,
   "id": "d8d3e811",
   "metadata": {},
   "outputs": [],
   "source": []
  },
  {
   "cell_type": "code",
   "execution_count": null,
   "id": "7d581c68",
   "metadata": {},
   "outputs": [],
   "source": []
  },
  {
   "cell_type": "code",
   "execution_count": null,
   "id": "f97a1e44",
   "metadata": {},
   "outputs": [],
   "source": []
  }
 ],
 "metadata": {
  "kernelspec": {
   "display_name": "Python 3 (ipykernel)",
   "language": "python",
   "name": "python3"
  },
  "language_info": {
   "codemirror_mode": {
    "name": "ipython",
    "version": 3
   },
   "file_extension": ".py",
   "mimetype": "text/x-python",
   "name": "python",
   "nbconvert_exporter": "python",
   "pygments_lexer": "ipython3",
   "version": "3.10.9"
  }
 },
 "nbformat": 4,
 "nbformat_minor": 5
}
